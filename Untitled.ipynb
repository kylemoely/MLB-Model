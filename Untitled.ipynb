{
 "cells": [
  {
   "cell_type": "code",
   "execution_count": 1,
   "id": "418a747e-474c-4416-9eb6-297cb264519c",
   "metadata": {},
   "outputs": [],
   "source": [
    "from db.db import engine"
   ]
  },
  {
   "cell_type": "code",
   "execution_count": 2,
   "id": "2ea8ba97-caaf-473e-ab16-c3e1bbd51d5a",
   "metadata": {},
   "outputs": [],
   "source": [
    "from models.first_inning_runs.train import train_model"
   ]
  },
  {
   "cell_type": "code",
   "execution_count": 6,
   "id": "9eb62863-ceb9-4298-8ce3-7bba6532f741",
   "metadata": {},
   "outputs": [],
   "source": [
    "import pandas as pd\n",
    "from sklearn.model_selection import train_test_split\n",
    "from sklearn.preprocessing import StandardScaler\n",
    "import tensorflow as tf\n",
    "from tensorflow.keras import layers, models\n",
    "import numpy as np"
   ]
  },
  {
   "cell_type": "code",
   "execution_count": 5,
   "id": "3faa3320-79bd-42cd-b9b3-a063ae4fe8b0",
   "metadata": {},
   "outputs": [],
   "source": [
    "features_df = pd.read_sql(\"SELECT * FROM game_features\", engine)\n",
    "labels_df = pd.read_sql(\"SELECT * FROM game_labels\",engine)"
   ]
  },
  {
   "cell_type": "code",
   "execution_count": 7,
   "id": "fe9f2a14-ae98-4710-83b8-3a7aece3b838",
   "metadata": {},
   "outputs": [],
   "source": [
    "df = features_df.merge(labels_df, on=\"gamepk\", how=\"inner\").copy()\n",
    "df['label'] = df['label'].astype(int)"
   ]
  },
  {
   "cell_type": "code",
   "execution_count": 9,
   "id": "2293389b-f8e6-48bb-ab2b-fc53d993b9f0",
   "metadata": {},
   "outputs": [
    {
     "data": {
      "text/plain": [
       "Index(['gamepk', 'away_pitcher_era', 'away_pitcher_whip', 'home_pitcher_era',\n",
       "       'home_pitcher_whip', 'away_batter1_ops', 'away_batter1_avg',\n",
       "       'away_batter2_ops', 'away_batter2_avg', 'away_batter3_ops',\n",
       "       'away_batter3_avg', 'away_batter4_ops', 'away_batter4_avg',\n",
       "       'away_batter5_ops', 'away_batter5_avg', 'home_batter1_ops',\n",
       "       'home_batter1_avg', 'home_batter2_ops', 'home_batter2_avg',\n",
       "       'home_batter3_ops', 'home_batter3_avg', 'home_batter4_ops',\n",
       "       'home_batter4_avg', 'home_batter5_ops', 'home_batter5_avg', 'away_oaa',\n",
       "       'away_drs', 'home_oaa', 'home_drs', 'label'],\n",
       "      dtype='object')"
      ]
     },
     "execution_count": 9,
     "metadata": {},
     "output_type": "execute_result"
    }
   ],
   "source": [
    "df.columns"
   ]
  },
  {
   "cell_type": "code",
   "execution_count": 11,
   "id": "9712531e-8979-4d3b-8137-5c376eafc509",
   "metadata": {},
   "outputs": [],
   "source": [
    "def row_to_sequence(row):\n",
    "    away_matchups = [[row[f\"away_batter{i}_ops\"],row[f\"away_batter{i}_avg\"],row[\"home_pitcher_era\"],row[\"home_pitcher_whip\"],row[\"home_oaa\"],row[\"home_drs\"]] for i in range(1,6)]\n",
    "    home_matchups = [[row[f\"home_batter{i}_ops\"],row[f\"home_batter{i}_avg\"],row[\"away_pitcher_era\"],row[\"away_pitcher_whip\"],row[\"away_oaa\"],row[\"away_drs\"]] for i in range(1,6)]\n",
    "    return np.array(away_matchups + home_matchups, dtype=float) "
   ]
  },
  {
   "cell_type": "code",
   "execution_count": 15,
   "id": "19db0cfc-7048-4d04-b87e-4dbfc117f57d",
   "metadata": {},
   "outputs": [
    {
     "name": "stdout",
     "output_type": "stream",
     "text": [
      "Epoch 1/25\n",
      "\u001b[1m49/49\u001b[0m \u001b[32m━━━━━━━━━━━━━━━━━━━━\u001b[0m\u001b[37m\u001b[0m \u001b[1m6s\u001b[0m 26ms/step - accuracy: 0.4954 - auc: 0.4972 - loss: 0.6994 - val_accuracy: 0.4974 - val_auc: 0.5184 - val_loss: 0.6949\n",
      "Epoch 2/25\n",
      "\u001b[1m49/49\u001b[0m \u001b[32m━━━━━━━━━━━━━━━━━━━━\u001b[0m\u001b[37m\u001b[0m \u001b[1m1s\u001b[0m 13ms/step - accuracy: 0.5072 - auc: 0.5119 - loss: 0.6942 - val_accuracy: 0.5039 - val_auc: 0.5193 - val_loss: 0.6943\n",
      "Epoch 3/25\n",
      "\u001b[1m49/49\u001b[0m \u001b[32m━━━━━━━━━━━━━━━━━━━━\u001b[0m\u001b[37m\u001b[0m \u001b[1m1s\u001b[0m 13ms/step - accuracy: 0.4962 - auc: 0.5093 - loss: 0.6950 - val_accuracy: 0.4987 - val_auc: 0.5119 - val_loss: 0.6942\n",
      "Epoch 4/25\n",
      "\u001b[1m49/49\u001b[0m \u001b[32m━━━━━━━━━━━━━━━━━━━━\u001b[0m\u001b[37m\u001b[0m \u001b[1m1s\u001b[0m 13ms/step - accuracy: 0.5108 - auc: 0.5125 - loss: 0.6941 - val_accuracy: 0.5373 - val_auc: 0.5380 - val_loss: 0.6915\n",
      "Epoch 5/25\n",
      "\u001b[1m49/49\u001b[0m \u001b[32m━━━━━━━━━━━━━━━━━━━━\u001b[0m\u001b[37m\u001b[0m \u001b[1m1s\u001b[0m 14ms/step - accuracy: 0.5247 - auc: 0.5345 - loss: 0.6914 - val_accuracy: 0.4961 - val_auc: 0.5061 - val_loss: 0.6946\n",
      "Epoch 6/25\n",
      "\u001b[1m49/49\u001b[0m \u001b[32m━━━━━━━━━━━━━━━━━━━━\u001b[0m\u001b[37m\u001b[0m \u001b[1m1s\u001b[0m 13ms/step - accuracy: 0.5185 - auc: 0.5263 - loss: 0.6923 - val_accuracy: 0.5283 - val_auc: 0.5269 - val_loss: 0.6919\n",
      "Epoch 7/25\n",
      "\u001b[1m49/49\u001b[0m \u001b[32m━━━━━━━━━━━━━━━━━━━━\u001b[0m\u001b[37m\u001b[0m \u001b[1m1s\u001b[0m 13ms/step - accuracy: 0.5054 - auc: 0.5203 - loss: 0.6929 - val_accuracy: 0.5154 - val_auc: 0.5183 - val_loss: 0.6932\n",
      "Epoch 8/25\n",
      "\u001b[1m49/49\u001b[0m \u001b[32m━━━━━━━━━━━━━━━━━━━━\u001b[0m\u001b[37m\u001b[0m \u001b[1m1s\u001b[0m 13ms/step - accuracy: 0.5328 - auc: 0.5507 - loss: 0.6893 - val_accuracy: 0.5103 - val_auc: 0.5187 - val_loss: 0.6932\n",
      "Epoch 9/25\n",
      "\u001b[1m49/49\u001b[0m \u001b[32m━━━━━━━━━━━━━━━━━━━━\u001b[0m\u001b[37m\u001b[0m \u001b[1m1s\u001b[0m 13ms/step - accuracy: 0.5381 - auc: 0.5450 - loss: 0.6908 - val_accuracy: 0.5193 - val_auc: 0.5184 - val_loss: 0.6947\n",
      "Epoch 10/25\n",
      "\u001b[1m49/49\u001b[0m \u001b[32m━━━━━━━━━━━━━━━━━━━━\u001b[0m\u001b[37m\u001b[0m \u001b[1m1s\u001b[0m 13ms/step - accuracy: 0.5137 - auc: 0.5301 - loss: 0.6918 - val_accuracy: 0.5167 - val_auc: 0.5104 - val_loss: 0.6938\n",
      "Epoch 11/25\n",
      "\u001b[1m49/49\u001b[0m \u001b[32m━━━━━━━━━━━━━━━━━━━━\u001b[0m\u001b[37m\u001b[0m \u001b[1m1s\u001b[0m 14ms/step - accuracy: 0.5202 - auc: 0.5448 - loss: 0.6886 - val_accuracy: 0.5167 - val_auc: 0.5034 - val_loss: 0.6954\n",
      "Epoch 12/25\n",
      "\u001b[1m49/49\u001b[0m \u001b[32m━━━━━━━━━━━━━━━━━━━━\u001b[0m\u001b[37m\u001b[0m \u001b[1m1s\u001b[0m 13ms/step - accuracy: 0.5220 - auc: 0.5300 - loss: 0.6913 - val_accuracy: 0.5167 - val_auc: 0.5027 - val_loss: 0.6961\n",
      "Epoch 13/25\n",
      "\u001b[1m49/49\u001b[0m \u001b[32m━━━━━━━━━━━━━━━━━━━━\u001b[0m\u001b[37m\u001b[0m \u001b[1m1s\u001b[0m 13ms/step - accuracy: 0.5136 - auc: 0.5204 - loss: 0.6925 - val_accuracy: 0.4961 - val_auc: 0.4912 - val_loss: 0.6971\n",
      "Epoch 14/25\n",
      "\u001b[1m49/49\u001b[0m \u001b[32m━━━━━━━━━━━━━━━━━━━━\u001b[0m\u001b[37m\u001b[0m \u001b[1m1s\u001b[0m 13ms/step - accuracy: 0.5258 - auc: 0.5332 - loss: 0.6914 - val_accuracy: 0.5103 - val_auc: 0.5077 - val_loss: 0.6984\n",
      "Epoch 15/25\n",
      "\u001b[1m49/49\u001b[0m \u001b[32m━━━━━━━━━━━━━━━━━━━━\u001b[0m\u001b[37m\u001b[0m \u001b[1m1s\u001b[0m 14ms/step - accuracy: 0.5397 - auc: 0.5503 - loss: 0.6902 - val_accuracy: 0.4781 - val_auc: 0.4917 - val_loss: 0.6983\n",
      "Epoch 16/25\n",
      "\u001b[1m49/49\u001b[0m \u001b[32m━━━━━━━━━━━━━━━━━━━━\u001b[0m\u001b[37m\u001b[0m \u001b[1m1s\u001b[0m 14ms/step - accuracy: 0.5220 - auc: 0.5420 - loss: 0.6892 - val_accuracy: 0.4794 - val_auc: 0.4872 - val_loss: 0.7001\n",
      "Epoch 17/25\n",
      "\u001b[1m49/49\u001b[0m \u001b[32m━━━━━━━━━━━━━━━━━━━━\u001b[0m\u001b[37m\u001b[0m \u001b[1m1s\u001b[0m 13ms/step - accuracy: 0.5284 - auc: 0.5408 - loss: 0.6895 - val_accuracy: 0.4781 - val_auc: 0.4948 - val_loss: 0.6982\n",
      "Epoch 18/25\n",
      "\u001b[1m49/49\u001b[0m \u001b[32m━━━━━━━━━━━━━━━━━━━━\u001b[0m\u001b[37m\u001b[0m \u001b[1m1s\u001b[0m 13ms/step - accuracy: 0.5330 - auc: 0.5411 - loss: 0.6911 - val_accuracy: 0.4910 - val_auc: 0.4978 - val_loss: 0.6981\n",
      "Epoch 19/25\n",
      "\u001b[1m49/49\u001b[0m \u001b[32m━━━━━━━━━━━━━━━━━━━━\u001b[0m\u001b[37m\u001b[0m \u001b[1m1s\u001b[0m 14ms/step - accuracy: 0.5160 - auc: 0.5468 - loss: 0.6878 - val_accuracy: 0.5039 - val_auc: 0.5127 - val_loss: 0.6970\n",
      "Epoch 20/25\n",
      "\u001b[1m49/49\u001b[0m \u001b[32m━━━━━━━━━━━━━━━━━━━━\u001b[0m\u001b[37m\u001b[0m \u001b[1m1s\u001b[0m 14ms/step - accuracy: 0.5407 - auc: 0.5520 - loss: 0.6872 - val_accuracy: 0.4923 - val_auc: 0.5066 - val_loss: 0.6990\n",
      "Epoch 21/25\n",
      "\u001b[1m49/49\u001b[0m \u001b[32m━━━━━━━━━━━━━━━━━━━━\u001b[0m\u001b[37m\u001b[0m \u001b[1m1s\u001b[0m 13ms/step - accuracy: 0.5325 - auc: 0.5596 - loss: 0.6864 - val_accuracy: 0.4949 - val_auc: 0.4954 - val_loss: 0.7009\n",
      "Epoch 22/25\n",
      "\u001b[1m49/49\u001b[0m \u001b[32m━━━━━━━━━━━━━━━━━━━━\u001b[0m\u001b[37m\u001b[0m \u001b[1m1s\u001b[0m 13ms/step - accuracy: 0.5597 - auc: 0.5687 - loss: 0.6856 - val_accuracy: 0.4897 - val_auc: 0.4989 - val_loss: 0.6989\n",
      "Epoch 23/25\n",
      "\u001b[1m49/49\u001b[0m \u001b[32m━━━━━━━━━━━━━━━━━━━━\u001b[0m\u001b[37m\u001b[0m \u001b[1m1s\u001b[0m 14ms/step - accuracy: 0.5385 - auc: 0.5598 - loss: 0.6862 - val_accuracy: 0.4794 - val_auc: 0.5055 - val_loss: 0.7003\n",
      "Epoch 24/25\n",
      "\u001b[1m49/49\u001b[0m \u001b[32m━━━━━━━━━━━━━━━━━━━━\u001b[0m\u001b[37m\u001b[0m \u001b[1m1s\u001b[0m 14ms/step - accuracy: 0.5424 - auc: 0.5669 - loss: 0.6850 - val_accuracy: 0.4871 - val_auc: 0.5028 - val_loss: 0.7016\n",
      "Epoch 25/25\n",
      "\u001b[1m49/49\u001b[0m \u001b[32m━━━━━━━━━━━━━━━━━━━━\u001b[0m\u001b[37m\u001b[0m \u001b[1m1s\u001b[0m 14ms/step - accuracy: 0.5629 - auc: 0.5951 - loss: 0.6786 - val_accuracy: 0.4884 - val_auc: 0.5041 - val_loss: 0.7055\n"
     ]
    }
   ],
   "source": [
    "X = df[[col for col in df.columns if \"_\" in col]]\n",
    "X = X.fillna(X.median(numeric_only=True))\n",
    "X_seq = np.stack(X.apply(row_to_sequence, axis=1).values)\n",
    "y = df['label'].values\n",
    "\n",
    "X_tr, X_te, y_tr, y_te = train_test_split(X_seq, y, test_size=0.2, random_state=42)\n",
    "\n",
    "scaler = StandardScaler()\n",
    "X_tr_2d = X_tr.reshape(-1, X_tr.shape[-1])\n",
    "X_te_2d = X_te.reshape(-1, X_te.shape[-1])\n",
    "\n",
    "X_tr_2d = scaler.fit_transform(X_tr_2d)\n",
    "X_te_2d = scaler.transform(X_te_2d)\n",
    "\n",
    "X_tr = X_tr_2d.reshape(X_tr.shape)\n",
    "X_te = X_te_2d.reshape(X_te.shape)\n",
    "\n",
    "tf.random.set_seed(42)\n",
    "\n",
    "model = models.Sequential([\n",
    "    layers.Input(shape=(10, 6)),\n",
    "    layers.GRU(64, return_sequences=True),\n",
    "    layers.GRU(32, return_sequences=False),\n",
    "    layers.Dropout(0.3),\n",
    "    layers.Dense(16, activation=\"relu\"),\n",
    "    layers.Dropout(0.2),\n",
    "    layers.Dense(1, activation=\"sigmoid\")\n",
    "])\n",
    "\n",
    "model.compile(\n",
    "    optimizer=\"adam\",\n",
    "    loss=\"binary_crossentropy\",\n",
    "    metrics=[\"accuracy\", tf.keras.metrics.AUC(name=\"auc\")]\n",
    ")\n",
    "\n",
    "history = model.fit(\n",
    "    X_tr, y_tr,\n",
    "    validation_split=0.2,\n",
    "    epochs=25,\n",
    "    batch_size=64,\n",
    "    verbose=1\n",
    ")"
   ]
  },
  {
   "cell_type": "code",
   "execution_count": 16,
   "id": "000a38d8-54aa-4da7-8190-04596914dbf6",
   "metadata": {},
   "outputs": [
    {
     "name": "stdout",
     "output_type": "stream",
     "text": [
      "\u001b[1m31/31\u001b[0m \u001b[32m━━━━━━━━━━━━━━━━━━━━\u001b[0m\u001b[37m\u001b[0m \u001b[1m1s\u001b[0m 15ms/step\n"
     ]
    }
   ],
   "source": [
    "y_pred = model.predict(X_te)"
   ]
  },
  {
   "cell_type": "code",
   "execution_count": 18,
   "id": "d8da00ef-a32f-4e92-9e11-fd560125ba4e",
   "metadata": {},
   "outputs": [],
   "source": [
    "y_pred = y_pred.astype(int)"
   ]
  },
  {
   "cell_type": "code",
   "execution_count": 19,
   "id": "5ea0b8e8-b398-4e68-b502-574c3289cd98",
   "metadata": {},
   "outputs": [
    {
     "data": {
      "text/plain": [
       "0.5349794238683128"
      ]
     },
     "execution_count": 19,
     "metadata": {},
     "output_type": "execute_result"
    }
   ],
   "source": [
    "from sklearn.metrics import accuracy_score\n",
    "accuracy_score(y_te, y_pred)"
   ]
  },
  {
   "cell_type": "code",
   "execution_count": 20,
   "id": "2ad5ca15-154d-4e9e-990c-408d5c413a47",
   "metadata": {},
   "outputs": [],
   "source": [
    "df = pd.read_sql(\"SELECT * FROM fieldable_plays f INNER JOIN game_catalog g ON f.gamepk = g.gamepk WHERE g.game_date > '01-01-2023'\",engine)"
   ]
  },
  {
   "cell_type": "code",
   "execution_count": 21,
   "id": "be8a3409-f7a0-43df-b4d3-726c4b896173",
   "metadata": {},
   "outputs": [
    {
     "data": {
      "text/plain": [
       "236257"
      ]
     },
     "execution_count": 21,
     "metadata": {},
     "output_type": "execute_result"
    }
   ],
   "source": [
    "len(df)"
   ]
  },
  {
   "cell_type": "code",
   "execution_count": 22,
   "id": "d10a4aed-075f-4c0e-bbb1-999f96804a9a",
   "metadata": {},
   "outputs": [],
   "source": [
    "df[\"oaa\"] = np.where(df[\"in_play_out\"], 1 - df[\"p_out\"], -df[\"p_out\"])\n",
    "df[\"drs\"] = np.where(df[\"has_score\"],-df[\"p_run\"],1-df[\"p_run\"])"
   ]
  },
  {
   "cell_type": "code",
   "execution_count": 31,
   "id": "547f49ba-b7ed-4f49-8a9c-359087d2e6d3",
   "metadata": {},
   "outputs": [
    {
     "data": {
      "text/html": [
       "<div>\n",
       "<style scoped>\n",
       "    .dataframe tbody tr th:only-of-type {\n",
       "        vertical-align: middle;\n",
       "    }\n",
       "\n",
       "    .dataframe tbody tr th {\n",
       "        vertical-align: top;\n",
       "    }\n",
       "\n",
       "    .dataframe thead th {\n",
       "        text-align: right;\n",
       "    }\n",
       "</style>\n",
       "<table border=\"1\" class=\"dataframe\">\n",
       "  <thead>\n",
       "    <tr style=\"text-align: right;\">\n",
       "      <th></th>\n",
       "      <th>oaa</th>\n",
       "      <th>drs</th>\n",
       "    </tr>\n",
       "    <tr>\n",
       "      <th>responsibility</th>\n",
       "      <th></th>\n",
       "      <th></th>\n",
       "    </tr>\n",
       "  </thead>\n",
       "  <tbody>\n",
       "    <tr>\n",
       "      <th>678662.0</th>\n",
       "      <td>39.387703</td>\n",
       "      <td>892.771885</td>\n",
       "    </tr>\n",
       "    <tr>\n",
       "      <th>621020.0</th>\n",
       "      <td>39.032317</td>\n",
       "      <td>864.951154</td>\n",
       "    </tr>\n",
       "    <tr>\n",
       "      <th>543760.0</th>\n",
       "      <td>37.687139</td>\n",
       "      <td>830.315814</td>\n",
       "    </tr>\n",
       "    <tr>\n",
       "      <th>663647.0</th>\n",
       "      <td>31.049126</td>\n",
       "      <td>608.862556</td>\n",
       "    </tr>\n",
       "    <tr>\n",
       "      <th>500743.0</th>\n",
       "      <td>29.989205</td>\n",
       "      <td>591.221224</td>\n",
       "    </tr>\n",
       "    <tr>\n",
       "      <th>...</th>\n",
       "      <td>...</td>\n",
       "      <td>...</td>\n",
       "    </tr>\n",
       "    <tr>\n",
       "      <th>807799.0</th>\n",
       "      <td>-12.120522</td>\n",
       "      <td>207.238515</td>\n",
       "    </tr>\n",
       "    <tr>\n",
       "      <th>594807.0</th>\n",
       "      <td>-16.176853</td>\n",
       "      <td>438.159256</td>\n",
       "    </tr>\n",
       "    <tr>\n",
       "      <th>691023.0</th>\n",
       "      <td>-17.015337</td>\n",
       "      <td>406.686496</td>\n",
       "    </tr>\n",
       "    <tr>\n",
       "      <th>669261.0</th>\n",
       "      <td>-17.331107</td>\n",
       "      <td>642.189618</td>\n",
       "    </tr>\n",
       "    <tr>\n",
       "      <th>666624.0</th>\n",
       "      <td>-19.050815</td>\n",
       "      <td>378.455974</td>\n",
       "    </tr>\n",
       "  </tbody>\n",
       "</table>\n",
       "<p>1627 rows × 2 columns</p>\n",
       "</div>"
      ],
      "text/plain": [
       "                      oaa         drs\n",
       "responsibility                       \n",
       "678662.0        39.387703  892.771885\n",
       "621020.0        39.032317  864.951154\n",
       "543760.0        37.687139  830.315814\n",
       "663647.0        31.049126  608.862556\n",
       "500743.0        29.989205  591.221224\n",
       "...                   ...         ...\n",
       "807799.0       -12.120522  207.238515\n",
       "594807.0       -16.176853  438.159256\n",
       "691023.0       -17.015337  406.686496\n",
       "669261.0       -17.331107  642.189618\n",
       "666624.0       -19.050815  378.455974\n",
       "\n",
       "[1627 rows x 2 columns]"
      ]
     },
     "execution_count": 31,
     "metadata": {},
     "output_type": "execute_result"
    }
   ],
   "source": [
    "df.groupby(\"responsibility\")[[\"oaa\",\"drs\"]].sum().sort_values(by=\"oaa\",ascending=False)"
   ]
  },
  {
   "cell_type": "code",
   "execution_count": 24,
   "id": "12f355d8-8599-46e7-a6a2-19777eba3a2f",
   "metadata": {},
   "outputs": [],
   "source": [
    "import statsapi"
   ]
  },
  {
   "cell_type": "code",
   "execution_count": 38,
   "id": "3db6424f-5567-4f63-9e3f-ea485c91dcb4",
   "metadata": {},
   "outputs": [],
   "source": [
    "person = statsapi.get(\"person\", params={\"personId\":663647})"
   ]
  },
  {
   "cell_type": "code",
   "execution_count": 39,
   "id": "455d5f59-ab7c-447c-a322-e91911816902",
   "metadata": {},
   "outputs": [
    {
     "data": {
      "text/plain": [
       "{'copyright': 'Copyright 2025 MLB Advanced Media, L.P.  Use of any content on this page acknowledges agreement to the terms posted here http://gdx.mlb.com/components/copyright.txt',\n",
       " 'people': [{'id': 663647,\n",
       "   'fullName': \"Ke'Bryan Hayes\",\n",
       "   'link': '/api/v1/people/663647',\n",
       "   'firstName': \"Ke'Bryan\",\n",
       "   'lastName': 'Hayes',\n",
       "   'primaryNumber': '3',\n",
       "   'birthDate': '1997-01-28',\n",
       "   'currentAge': 28,\n",
       "   'birthCity': 'Tomball',\n",
       "   'birthStateProvince': 'TX',\n",
       "   'birthCountry': 'USA',\n",
       "   'height': '5\\' 11\"',\n",
       "   'weight': 215,\n",
       "   'active': True,\n",
       "   'primaryPosition': {'code': '5',\n",
       "    'name': 'Third Base',\n",
       "    'type': 'Infielder',\n",
       "    'abbreviation': '3B'},\n",
       "   'useName': \"Ke'Bryan\",\n",
       "   'useLastName': 'Hayes',\n",
       "   'middleName': 'Kobe',\n",
       "   'boxscoreName': 'Hayes',\n",
       "   'gender': 'M',\n",
       "   'isPlayer': True,\n",
       "   'isVerified': True,\n",
       "   'draftYear': 2015,\n",
       "   'pronunciation': 'KEY-bryan',\n",
       "   'mlbDebutDate': '2020-09-01',\n",
       "   'batSide': {'code': 'R', 'description': 'Right'},\n",
       "   'pitchHand': {'code': 'R', 'description': 'Right'},\n",
       "   'nameFirstLast': \"Ke'Bryan Hayes\",\n",
       "   'nameSlug': 'ke-bryan-hayes-663647',\n",
       "   'firstLastName': \"Ke'Bryan Hayes\",\n",
       "   'lastFirstName': \"Hayes, Ke'Bryan\",\n",
       "   'lastInitName': 'Hayes, K',\n",
       "   'initLastName': 'K Hayes',\n",
       "   'fullFMLName': \"Ke'Bryan Kobe Hayes\",\n",
       "   'fullLFMName': \"Hayes, Ke'Bryan Kobe\",\n",
       "   'strikeZoneTop': 3.27,\n",
       "   'strikeZoneBottom': 1.53}]}"
      ]
     },
     "execution_count": 39,
     "metadata": {},
     "output_type": "execute_result"
    }
   ],
   "source": [
    "person"
   ]
  },
  {
   "cell_type": "code",
   "execution_count": 40,
   "id": "5dd83fa3-c2a6-4bcd-81b7-bda7ff309448",
   "metadata": {},
   "outputs": [],
   "source": [
    "features_df.to_excel(r\"C:\\Users\\Kyle\\Desktop\\Projects\\MLB Stats\\data\\game_features_2023_2024.xlsx\")\n",
    "labels_df.to_excel(r\"C:\\Users\\Kyle\\Desktop\\Projects\\MLB Stats\\data\\game_labels_2023_2024.xlsx\")"
   ]
  },
  {
   "cell_type": "code",
   "execution_count": null,
   "id": "f6b368c0-7554-42ad-b673-c2a390088161",
   "metadata": {},
   "outputs": [],
   "source": []
  }
 ],
 "metadata": {
  "kernelspec": {
   "display_name": "Python 3 (ipykernel)",
   "language": "python",
   "name": "python3"
  },
  "language_info": {
   "codemirror_mode": {
    "name": "ipython",
    "version": 3
   },
   "file_extension": ".py",
   "mimetype": "text/x-python",
   "name": "python",
   "nbconvert_exporter": "python",
   "pygments_lexer": "ipython3",
   "version": "3.11.5"
  }
 },
 "nbformat": 4,
 "nbformat_minor": 5
}
